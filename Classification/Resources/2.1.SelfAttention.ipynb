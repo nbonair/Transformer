{
 "cells": [
  {
   "cell_type": "code",
   "execution_count": 1,
   "id": "871786cb",
   "metadata": {},
   "outputs": [
    {
     "name": "stdout",
     "output_type": "stream",
     "text": [
      "(None, 1, 3)\n"
     ]
    }
   ],
   "source": [
    "import tensorflow as tf\n",
    "import numpy as np\n",
    "\n",
    "x = tf.keras.Input(shape=[1, 3])\n",
    "layer  = tf.keras.layers.MultiHeadAttention(num_heads=1, key_dim=2, use_bias=False)\n",
    "\n",
    "output_tensor = layer(x, x)\n",
    "print(output_tensor.shape)"
   ]
  },
  {
   "cell_type": "code",
   "execution_count": 2,
   "id": "84efa9cd",
   "metadata": {},
   "outputs": [
    {
     "name": "stdout",
     "output_type": "stream",
     "text": [
      "4\n"
     ]
    }
   ],
   "source": [
    "weights = layer.get_weights()\n",
    "print(len(weights))"
   ]
  },
  {
   "cell_type": "code",
   "execution_count": 3,
   "id": "de58c74a",
   "metadata": {},
   "outputs": [
    {
     "name": "stdout",
     "output_type": "stream",
     "text": [
      "(3, 1, 2)\n",
      "(3, 1, 2)\n",
      "(3, 1, 2)\n",
      "(1, 2, 3)\n"
     ]
    }
   ],
   "source": [
    "print(weights[0].shape)\n",
    "print(weights[1].shape)\n",
    "print(weights[2].shape)\n",
    "print(weights[3].shape)"
   ]
  },
  {
   "cell_type": "code",
   "execution_count": 4,
   "id": "67752dda",
   "metadata": {},
   "outputs": [],
   "source": [
    "q = np.array([[[ 0.4,  0.3 ]],\n",
    "              [[-0.1, -0.1]],\n",
    "              [[ 0.2, -0.1]]])\n",
    "k = np.array([[[ 0.1,  0.2 ]],\n",
    "              [[-0.3, -0.4]],\n",
    "              [[-0.1,  0.2]]])\n",
    "v = np.array([[[-0.2,  0.1 ]],\n",
    "              [[-0.4,  0.2]],\n",
    "              [[ 0.4, -0.6]]])\n",
    "o = np.array([[[ 0.1, -0.1,  0.6 ],\n",
    "               [ 0.9,  0.3,  0.1 ]]])"
   ]
  },
  {
   "cell_type": "code",
   "execution_count": 5,
   "id": "359dcfc5",
   "metadata": {},
   "outputs": [],
   "source": [
    "layer.set_weights([q, k, v, o])"
   ]
  },
  {
   "cell_type": "code",
   "execution_count": 6,
   "id": "f7e7aa5a",
   "metadata": {},
   "outputs": [
    {
     "name": "stdout",
     "output_type": "stream",
     "text": [
      "[[[ 0.4  0.3]]\n",
      "\n",
      " [[-0.1 -0.1]]\n",
      "\n",
      " [[ 0.2 -0.1]]]\n",
      "[[[ 0.1  0.2]]\n",
      "\n",
      " [[-0.3 -0.4]]\n",
      "\n",
      " [[-0.1  0.2]]]\n",
      "[[[-0.2  0.1]]\n",
      "\n",
      " [[-0.4  0.2]]\n",
      "\n",
      " [[ 0.4 -0.6]]]\n",
      "[[[ 0.1 -0.1  0.6]\n",
      "  [ 0.9  0.3  0.1]]]\n"
     ]
    }
   ],
   "source": [
    "weights = layer.get_weights()\n",
    "print(weights[0])\n",
    "print(weights[1])\n",
    "print(weights[2])\n",
    "print(weights[3])"
   ]
  },
  {
   "cell_type": "code",
   "execution_count": null,
   "id": "3e05e5c4",
   "metadata": {},
   "outputs": [],
   "source": []
  },
  {
   "cell_type": "code",
   "execution_count": 7,
   "id": "98f2377e",
   "metadata": {},
   "outputs": [
    {
     "name": "stdout",
     "output_type": "stream",
     "text": [
      "(1, 1, 3)\n",
      "[[[1. 3. 2.]]]\n"
     ]
    }
   ],
   "source": [
    "data = np.array([1., 3., 2.])\n",
    "data = data.reshape((1, 1, 3))\n",
    "print(data.shape)\n",
    "print(data)"
   ]
  },
  {
   "cell_type": "code",
   "execution_count": 8,
   "id": "a6de4210",
   "metadata": {},
   "outputs": [
    {
     "name": "stdout",
     "output_type": "stream",
     "text": [
      "(1, 1, 3)\n",
      "(1, 1, 1, 1)\n"
     ]
    }
   ],
   "source": [
    "output_tensor, weights = layer(data, data, return_attention_scores=True)\n",
    "print(output_tensor.shape)\n",
    "print(weights.shape)"
   ]
  },
  {
   "cell_type": "code",
   "execution_count": 9,
   "id": "f8e40652",
   "metadata": {},
   "outputs": [
    {
     "name": "stdout",
     "output_type": "stream",
     "text": [
      "tf.Tensor([[[-0.51      -0.09      -0.4100001]]], shape=(1, 1, 3), dtype=float32)\n",
      "tf.Tensor([[[[1.]]]], shape=(1, 1, 1, 1), dtype=float32)\n"
     ]
    }
   ],
   "source": [
    "print(output_tensor)\n",
    "print(weights)"
   ]
  },
  {
   "cell_type": "code",
   "execution_count": null,
   "id": "51aa29f7",
   "metadata": {},
   "outputs": [],
   "source": []
  },
  {
   "cell_type": "markdown",
   "id": "fc1e5215",
   "metadata": {},
   "source": [
    "## verify"
   ]
  },
  {
   "cell_type": "code",
   "execution_count": 10,
   "id": "941e1afb",
   "metadata": {},
   "outputs": [
    {
     "name": "stdout",
     "output_type": "stream",
     "text": [
      "[[ 0.4  0.3]\n",
      " [-0.1 -0.1]\n",
      " [ 0.2 -0.1]]\n",
      "[[ 0.1  0.2]\n",
      " [-0.3 -0.4]\n",
      " [-0.1  0.2]]\n",
      "[[-0.2  0.1]\n",
      " [-0.4  0.2]\n",
      " [ 0.4 -0.6]]\n"
     ]
    }
   ],
   "source": [
    "q = np.array([[[ 0.4,  0.3 ]],\n",
    "              [[-0.1, -0.1]],\n",
    "              [[ 0.2, -0.1]]])\n",
    "k = np.array([[[ 0.1,  0.2 ]],\n",
    "              [[-0.3, -0.4]],\n",
    "              [[-0.1,  0.2]]])\n",
    "v = np.array([[[-0.2,  0.1 ]],\n",
    "              [[-0.4,  0.2]],\n",
    "              [[ 0.4, -0.6]]])\n",
    "\n",
    "q = q.reshape((3, 2))\n",
    "k = k.reshape((3, 2))\n",
    "v = v.reshape((3, 2))\n",
    "\n",
    "print(q)\n",
    "print(k)\n",
    "print(v)"
   ]
  },
  {
   "cell_type": "code",
   "execution_count": 11,
   "id": "05806003",
   "metadata": {},
   "outputs": [
    {
     "name": "stdout",
     "output_type": "stream",
     "text": [
      "(1, 3)\n",
      "[[1. 3. 2.]]\n"
     ]
    }
   ],
   "source": [
    "data = np.array([1., 3., 2.])\n",
    "data = data.reshape((1, 3))\n",
    "print(data.shape)\n",
    "print(data)"
   ]
  },
  {
   "cell_type": "code",
   "execution_count": 12,
   "id": "046239a3",
   "metadata": {},
   "outputs": [
    {
     "name": "stdout",
     "output_type": "stream",
     "text": [
      "[[ 0.5 -0.2]]\n",
      "[[-1.  -0.6]]\n",
      "[[-0.6 -0.5]]\n"
     ]
    }
   ],
   "source": [
    "q_value = np.dot(data, q)\n",
    "k_value = np.dot(data, k)\n",
    "v_value = np.dot(data, v)\n",
    " \n",
    "print(q_value)\n",
    "print(k_value)\n",
    "print(v_value)"
   ]
  },
  {
   "cell_type": "code",
   "execution_count": 29,
   "id": "877e6433",
   "metadata": {},
   "outputs": [
    {
     "name": "stdout",
     "output_type": "stream",
     "text": [
      "[1.]\n"
     ]
    }
   ],
   "source": [
    "def softmax(x):\n",
    "    e_x = np.exp(x - np.max(x))\n",
    "    return e_x / e_x.sum()\n",
    "\n",
    "alpha = softmax([np.dot(k_value, q_value)])\n",
    "print(alpha)"
   ]
  },
  {
   "cell_type": "code",
   "execution_count": 30,
   "id": "44d5370f",
   "metadata": {},
   "outputs": [
    {
     "name": "stdout",
     "output_type": "stream",
     "text": [
      "[-0.6 -0.5]\n"
     ]
    }
   ],
   "source": [
    "context_vector = alpha*v_value\n",
    "print(context_vector)"
   ]
  },
  {
   "cell_type": "code",
   "execution_count": 31,
   "id": "0d0f42e1",
   "metadata": {},
   "outputs": [
    {
     "name": "stdout",
     "output_type": "stream",
     "text": [
      "[[ 0.1 -0.1  0.6]\n",
      " [ 0.9  0.3  0.1]]\n"
     ]
    }
   ],
   "source": [
    "o = np.array([[[ 0.1, -0.1,  0.6 ],\n",
    "               [ 0.9,  0.3,  0.1 ]]])\n",
    "o = o.reshape((2, 3))\n",
    "print(o)"
   ]
  },
  {
   "cell_type": "code",
   "execution_count": 32,
   "id": "4c4c94f0",
   "metadata": {},
   "outputs": [
    {
     "name": "stdout",
     "output_type": "stream",
     "text": [
      "[-0.51 -0.09 -0.41]\n"
     ]
    }
   ],
   "source": [
    "output = np.dot(context_vector, o)\n",
    "print(output)"
   ]
  },
  {
   "cell_type": "code",
   "execution_count": null,
   "id": "4aa61d5d",
   "metadata": {},
   "outputs": [],
   "source": []
  },
  {
   "cell_type": "code",
   "execution_count": null,
   "id": "626b3e24",
   "metadata": {},
   "outputs": [],
   "source": []
  },
  {
   "cell_type": "code",
   "execution_count": null,
   "id": "64695a91",
   "metadata": {},
   "outputs": [],
   "source": []
  },
  {
   "cell_type": "code",
   "execution_count": 6,
   "id": "dd42f331",
   "metadata": {},
   "outputs": [
    {
     "name": "stdout",
     "output_type": "stream",
     "text": [
      "tf.Tensor([[[ 2.5561461 -0.7888286  0.6175448]]], shape=(1, 1, 3), dtype=float32)\n"
     ]
    }
   ],
   "source": [
    "import tensorflow as tf\n",
    "import numpy as np\n",
    "\n",
    "data   = np.array([1., 3., 2.]).reshape((1, 1, 3))\n",
    "layer  = tf.keras.layers.MultiHeadAttention(num_heads=1, key_dim=2)\n",
    "output = layer(query=data, value=data, key=data)\n",
    "print(output)"
   ]
  },
  {
   "cell_type": "code",
   "execution_count": 4,
   "id": "1982b8cb",
   "metadata": {},
   "outputs": [
    {
     "name": "stdout",
     "output_type": "stream",
     "text": [
      "tf.Tensor([[[ 1.1402409 -1.725717  -1.1650776]]], shape=(1, 1, 3), dtype=float32)\n"
     ]
    }
   ],
   "source": []
  },
  {
   "cell_type": "code",
   "execution_count": null,
   "id": "5259eddc",
   "metadata": {},
   "outputs": [],
   "source": []
  }
 ],
 "metadata": {
  "kernelspec": {
   "display_name": "Python 3 (ipykernel)",
   "language": "python",
   "name": "python3"
  },
  "language_info": {
   "codemirror_mode": {
    "name": "ipython",
    "version": 3
   },
   "file_extension": ".py",
   "mimetype": "text/x-python",
   "name": "python",
   "nbconvert_exporter": "python",
   "pygments_lexer": "ipython3",
   "version": "3.9.13"
  }
 },
 "nbformat": 4,
 "nbformat_minor": 5
}
