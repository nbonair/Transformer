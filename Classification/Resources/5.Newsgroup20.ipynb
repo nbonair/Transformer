{
  "cells": [
    {
      "cell_type": "code",
      "execution_count": 1,
      "id": "2d8ca74b",
      "metadata": {
        "id": "2d8ca74b"
      },
      "outputs": [],
      "source": [
        "import numpy as np\n",
        "import tensorflow as tf\n",
        "from tensorflow import keras"
      ]
    },
    {
      "cell_type": "code",
      "execution_count": 2,
      "id": "3dcaf9a5",
      "metadata": {
        "colab": {
          "base_uri": "https://localhost:8080/"
        },
        "id": "3dcaf9a5",
        "outputId": "4cd093e1-c8d9-44e5-a848-7addfbca88cc"
      },
      "outputs": [
        {
          "output_type": "stream",
          "name": "stdout",
          "text": [
            "Downloading data from http://www.cs.cmu.edu/afs/cs.cmu.edu/project/theo-20/www/data/news20.tar.gz\n",
            "17329808/17329808 [==============================] - 4s 0us/step\n"
          ]
        }
      ],
      "source": [
        "data_path = keras.utils.get_file(\n",
        "    \"news20.tar.gz\",\n",
        "    \"http://www.cs.cmu.edu/afs/cs.cmu.edu/project/theo-20/www/data/news20.tar.gz\",\n",
        "    untar=True,\n",
        ")"
      ]
    },
    {
      "cell_type": "code",
      "execution_count": 2,
      "id": "8b541a38",
      "metadata": {
        "id": "8b541a38"
      },
      "outputs": [],
      "source": []
    },
    {
      "cell_type": "code",
      "execution_count": 3,
      "id": "e1377be6",
      "metadata": {
        "colab": {
          "base_uri": "https://localhost:8080/"
        },
        "id": "e1377be6",
        "outputId": "161a635d-cf00-441d-b9c3-d83ba7a82479"
      },
      "outputs": [
        {
          "output_type": "stream",
          "name": "stdout",
          "text": [
            "Number of directories: 20\n",
            "Directory names: ['rec.sport.baseball', 'sci.electronics', 'sci.crypt', 'talk.religion.misc', 'comp.windows.x', 'soc.religion.christian', 'talk.politics.mideast', 'talk.politics.misc', 'sci.space', 'sci.med', 'rec.sport.hockey', 'comp.graphics', 'alt.atheism', 'talk.politics.guns', 'misc.forsale', 'rec.motorcycles', 'rec.autos', 'comp.os.ms-windows.misc', 'comp.sys.mac.hardware', 'comp.sys.ibm.pc.hardware']\n",
            "Number of files in comp.graphics: 1000\n",
            "Some example filenames: ['38320', '38548', '38894', '38732', '37963']\n"
          ]
        }
      ],
      "source": [
        "import os\n",
        "import pathlib\n",
        "\n",
        "data_dir = pathlib.Path(data_path).parent / \"20_newsgroup\"\n",
        "dirnames = os.listdir(data_dir)\n",
        "print(\"Number of directories:\", len(dirnames))\n",
        "print(\"Directory names:\", dirnames)\n",
        "\n",
        "fnames = os.listdir(data_dir / \"comp.graphics\")\n",
        "print(\"Number of files in comp.graphics:\", len(fnames))\n",
        "print(\"Some example filenames:\", fnames[:5])"
      ]
    },
    {
      "cell_type": "code",
      "execution_count": 4,
      "id": "78d5d788",
      "metadata": {
        "colab": {
          "base_uri": "https://localhost:8080/"
        },
        "id": "78d5d788",
        "outputId": "0f1af420-b224-4f6a-be22-3d5c8569d777"
      },
      "outputs": [
        {
          "output_type": "stream",
          "name": "stdout",
          "text": [
            "Newsgroups: comp.graphics\n",
            "Path: cantaloupe.srv.cs.cmu.edu!das-news.harvard.edu!noc.near.net!howland.reston.ans.net!agate!dog.ee.lbl.gov!network.ucsd.edu!usc!rpi!nason110.its.rpi.edu!mabusj\n",
            "From: mabusj@nason110.its.rpi.edu (Jasen M. Mabus)\n",
            "Subject: Looking for Brain in CAD\n",
            "Message-ID: <c285m+p@rpi.edu>\n",
            "Nntp-Posting-Host: nason110.its.rpi.edu\n",
            "Reply-To: mabusj@rpi.edu\n",
            "Organization: Rensselaer Polytechnic Institute, Troy, NY.\n",
            "Date: Thu, 29 Apr 1993 23:27:20 GMT\n",
            "Lines: 7\n",
            "\n",
            "Jasen Mabus\n",
            "RPI student\n",
            "\n",
            "\tI am looking for a hman brain in any CAD (.dxf,.cad,.iges,.cgm,etc.) or picture (.gif,.jpg,.ras,etc.) format for an animation demonstration. If any has or knows of a location please reply by e-mail to mabusj@rpi.edu.\n",
            "\n",
            "Thank you in advance,\n",
            "Jasen Mabus  \n",
            "\n"
          ]
        }
      ],
      "source": [
        "print(open(data_dir / \"comp.graphics\" / \"38987\").read())"
      ]
    },
    {
      "cell_type": "code",
      "execution_count": 4,
      "id": "3c2e7155",
      "metadata": {
        "id": "3c2e7155"
      },
      "outputs": [],
      "source": []
    },
    {
      "cell_type": "code",
      "execution_count": 5,
      "id": "0ecde906",
      "metadata": {
        "colab": {
          "base_uri": "https://localhost:8080/"
        },
        "id": "0ecde906",
        "outputId": "55cd2676-986c-4cdc-a992-e3830994a8c4"
      },
      "outputs": [
        {
          "output_type": "stream",
          "name": "stdout",
          "text": [
            "Processing alt.atheism, 1000 files found\n",
            "Processing comp.graphics, 1000 files found\n",
            "Processing comp.os.ms-windows.misc, 1000 files found\n",
            "Processing comp.sys.ibm.pc.hardware, 1000 files found\n",
            "Processing comp.sys.mac.hardware, 1000 files found\n",
            "Processing comp.windows.x, 1000 files found\n",
            "Processing misc.forsale, 1000 files found\n",
            "Processing rec.autos, 1000 files found\n",
            "Processing rec.motorcycles, 1000 files found\n",
            "Processing rec.sport.baseball, 1000 files found\n",
            "Processing rec.sport.hockey, 1000 files found\n",
            "Processing sci.crypt, 1000 files found\n",
            "Processing sci.electronics, 1000 files found\n",
            "Processing sci.med, 1000 files found\n",
            "Processing sci.space, 1000 files found\n",
            "Processing soc.religion.christian, 997 files found\n",
            "Processing talk.politics.guns, 1000 files found\n",
            "Processing talk.politics.mideast, 1000 files found\n",
            "Processing talk.politics.misc, 1000 files found\n",
            "Processing talk.religion.misc, 1000 files found\n",
            "Classes: ['alt.atheism', 'comp.graphics', 'comp.os.ms-windows.misc', 'comp.sys.ibm.pc.hardware', 'comp.sys.mac.hardware', 'comp.windows.x', 'misc.forsale', 'rec.autos', 'rec.motorcycles', 'rec.sport.baseball', 'rec.sport.hockey', 'sci.crypt', 'sci.electronics', 'sci.med', 'sci.space', 'soc.religion.christian', 'talk.politics.guns', 'talk.politics.mideast', 'talk.politics.misc', 'talk.religion.misc']\n",
            "Number of samples: 19997\n"
          ]
        }
      ],
      "source": [
        "samples = []\n",
        "labels = []\n",
        "class_names = []\n",
        "class_index = 0\n",
        "for dirname in sorted(os.listdir(data_dir)):\n",
        "    class_names.append(dirname)\n",
        "    dirpath = data_dir / dirname\n",
        "    fnames = os.listdir(dirpath)\n",
        "    print(\"Processing %s, %d files found\" % (dirname, len(fnames)))\n",
        "    for fname in fnames:\n",
        "        fpath = dirpath / fname\n",
        "        f = open(fpath, encoding=\"latin-1\")\n",
        "        content = f.read()\n",
        "        lines = content.split(\"\\n\")\n",
        "        lines = lines[10:]\n",
        "        content = \"\\n\".join(lines)\n",
        "        samples.append(content)\n",
        "        labels.append(class_index)\n",
        "    class_index += 1\n",
        "\n",
        "print(\"Classes:\", class_names)\n",
        "print(\"Number of samples:\", len(samples))"
      ]
    },
    {
      "cell_type": "code",
      "execution_count": 6,
      "id": "ec3f37ff",
      "metadata": {
        "id": "ec3f37ff"
      },
      "outputs": [],
      "source": [
        "# Shuffle the data\n",
        "seed = 1337\n",
        "rng = np.random.RandomState(seed)\n",
        "rng.shuffle(samples)\n",
        "rng = np.random.RandomState(seed)\n",
        "rng.shuffle(labels)\n",
        "\n",
        "# Extract a training & validation split\n",
        "validation_split = 0.2\n",
        "num_validation_samples = int(validation_split * len(samples))\n",
        "train_samples = samples[:-num_validation_samples]\n",
        "val_samples = samples[-num_validation_samples:]\n",
        "train_labels = labels[:-num_validation_samples]\n",
        "val_labels = labels[-num_validation_samples:]"
      ]
    },
    {
      "cell_type": "code",
      "execution_count": 6,
      "id": "1d750f78",
      "metadata": {
        "id": "1d750f78"
      },
      "outputs": [],
      "source": []
    },
    {
      "cell_type": "code",
      "execution_count": 7,
      "id": "55b80a95",
      "metadata": {
        "id": "55b80a95"
      },
      "outputs": [],
      "source": [
        "from tensorflow.keras.layers import TextVectorization\n",
        "\n",
        "vectorizer = TextVectorization(max_tokens=20000, output_sequence_length=200)\n",
        "text_ds = tf.data.Dataset.from_tensor_slices(train_samples).batch(128)\n",
        "vectorizer.adapt(text_ds)"
      ]
    },
    {
      "cell_type": "code",
      "execution_count": 8,
      "id": "6da583c6",
      "metadata": {
        "colab": {
          "base_uri": "https://localhost:8080/"
        },
        "id": "6da583c6",
        "outputId": "ef0b4645-3bfc-4836-ab55-510a260d2c02"
      },
      "outputs": [
        {
          "output_type": "execute_result",
          "data": {
            "text/plain": [
              "['', '[UNK]', 'the', 'to', 'of']"
            ]
          },
          "metadata": {},
          "execution_count": 8
        }
      ],
      "source": [
        "vectorizer.get_vocabulary()[:5]"
      ]
    },
    {
      "cell_type": "code",
      "execution_count": 9,
      "id": "81fb4827",
      "metadata": {
        "colab": {
          "base_uri": "https://localhost:8080/"
        },
        "id": "81fb4827",
        "outputId": "4108ad82-8f15-4183-d1d3-3eb90d8ba8c8"
      },
      "outputs": [
        {
          "output_type": "execute_result",
          "data": {
            "text/plain": [
              "array([   2, 3658, 1716,   15,    2, 6274])"
            ]
          },
          "metadata": {},
          "execution_count": 9
        }
      ],
      "source": [
        "output = vectorizer([[\"the cat sat on the mat\"]])\n",
        "output.numpy()[0, :6]"
      ]
    },
    {
      "cell_type": "code",
      "execution_count": 9,
      "id": "e77193d7",
      "metadata": {
        "id": "e77193d7"
      },
      "outputs": [],
      "source": []
    },
    {
      "cell_type": "code",
      "execution_count": 10,
      "id": "6df11735",
      "metadata": {
        "id": "6df11735"
      },
      "outputs": [],
      "source": [
        "voc = vectorizer.get_vocabulary()\n",
        "word_index = dict(zip(voc, range(len(voc))))"
      ]
    },
    {
      "cell_type": "code",
      "execution_count": 11,
      "id": "e62c2b87",
      "metadata": {
        "colab": {
          "base_uri": "https://localhost:8080/"
        },
        "id": "e62c2b87",
        "outputId": "f7b0989c-5be5-4df3-fdf4-0ecdc1a2f79c"
      },
      "outputs": [
        {
          "output_type": "execute_result",
          "data": {
            "text/plain": [
              "[2, 3658, 1716, 15, 2, 6274]"
            ]
          },
          "metadata": {},
          "execution_count": 11
        }
      ],
      "source": [
        "test = [\"the\", \"cat\", \"sat\", \"on\", \"the\", \"mat\"]\n",
        "[word_index[w] for w in test]"
      ]
    },
    {
      "cell_type": "code",
      "execution_count": 11,
      "id": "6c5b365d",
      "metadata": {
        "id": "6c5b365d"
      },
      "outputs": [],
      "source": []
    },
    {
      "cell_type": "code",
      "execution_count": 12,
      "id": "73bf0dae",
      "metadata": {
        "id": "73bf0dae"
      },
      "outputs": [],
      "source": [
        "x_train = vectorizer(np.array([[s] for s in train_samples])).numpy()\n",
        "x_val = vectorizer(np.array([[s] for s in val_samples])).numpy()\n",
        "\n",
        "y_train = np.array(train_labels)\n",
        "y_val = np.array(val_labels)"
      ]
    },
    {
      "cell_type": "code",
      "execution_count": 13,
      "id": "c382261c",
      "metadata": {
        "colab": {
          "base_uri": "https://localhost:8080/"
        },
        "id": "c382261c",
        "outputId": "67df5a8e-629c-46b9-f9ee-3e11fffb6624"
      },
      "outputs": [
        {
          "output_type": "execute_result",
          "data": {
            "text/plain": [
              "array([  323,     1,   586,     1,   162,  1297,   520,   168,   134,\n",
              "           1,   176,    75,  2631,     7,    48,     1,     1,     1,\n",
              "           1,    40,  9955,     1,     1,     1,     1,  8708,  4736,\n",
              "           1,     1,     1,     1,     1,     1,     1,     1,     1,\n",
              "           1,     1,     1,     1,     1, 16401, 14316,     1,     1,\n",
              "           1,     1,   920, 14574,     1,     1,     1,     1,     1,\n",
              "           1,     1,     1,     1,     1,     1,     1,     1,     1,\n",
              "           1,     1,     1,     1,     1,     1,     1,     1,     1,\n",
              "           1,     1,     1,     1,   920, 14574,     1,     1,     1,\n",
              "        8708,  2454,     1,   596,  2454,     1,     1,  2503,   333,\n",
              "        5248,     1,     1,  8708,     1,     9,     1,  8708,  2454,\n",
              "           1,     1,   333,     1,     1,     1,    60,     1,     1,\n",
              "           1,     1,   956,  4711,   974,     1, 15307,     9,     1,\n",
              "           1,   596,  2454,     1,  4711,  1685,  8708,     1,     1,\n",
              "         143,  6474,     1,   488,     1,   596,  2454,     1,  8708,\n",
              "        2503,     1,     1,     1,     1,     9,     1,     1,  1293,\n",
              "           1,  7599,     1,     1,  9045,   333,     1,     9,     1,\n",
              "           1, 15823,     1, 19760,     9,     1,     1,     1,  2503,\n",
              "         333,     1,     1,     1,  2503,     1,     1,     1,   333,\n",
              "           1,     1,  3874,   481,     1,     1,  2503,   333,     1,\n",
              "           1,     1,     1, 14574,     1, 18594,  4711,     1,  1685,\n",
              "       15823,     1,   488,     1,  2503,  2454,     1,   481,     1,\n",
              "           1,     1])"
            ]
          },
          "metadata": {},
          "execution_count": 13
        }
      ],
      "source": [
        "x_train[0]"
      ]
    },
    {
      "cell_type": "code",
      "execution_count": null,
      "id": "441486f2",
      "metadata": {
        "id": "441486f2"
      },
      "outputs": [],
      "source": []
    },
    {
      "cell_type": "code",
      "execution_count": 14,
      "id": "2ee0bda0",
      "metadata": {
        "id": "2ee0bda0"
      },
      "outputs": [],
      "source": [
        "# tf.data.Dataset\n",
        "\n",
        "def create_dataset(x, y):\n",
        "    dataset = tf.data.Dataset.from_tensor_slices((x, y))\n",
        "    dataset = dataset.batch(100)\n",
        "    dataset = dataset.prefetch(tf.data.AUTOTUNE)\n",
        "    return dataset\n",
        "\n",
        "\n",
        "train_ds = create_dataset(x_train, y_train)\n",
        "test_ds = create_dataset(x_val, y_val)"
      ]
    },
    {
      "cell_type": "code",
      "execution_count": 15,
      "id": "82ed5224",
      "metadata": {
        "colab": {
          "base_uri": "https://localhost:8080/"
        },
        "id": "82ed5224",
        "outputId": "b3644cab-0094-4e79-b920-110face83198"
      },
      "outputs": [
        {
          "output_type": "stream",
          "name": "stdout",
          "text": [
            "tf.Tensor(\n",
            "[  323     1   586     1   162  1297   520   168   134     1   176    75\n",
            "  2631     7    48     1     1     1     1    40  9955     1     1     1\n",
            "     1  8708  4736     1     1     1     1     1     1     1     1     1\n",
            "     1     1     1     1     1 16401 14316     1     1     1     1   920\n",
            " 14574     1     1     1     1     1     1     1     1     1     1     1\n",
            "     1     1     1     1     1     1     1     1     1     1     1     1\n",
            "     1     1     1     1   920 14574     1     1     1  8708  2454     1\n",
            "   596  2454     1     1  2503   333  5248     1     1  8708     1     9\n",
            "     1  8708  2454     1     1   333     1     1     1    60     1     1\n",
            "     1     1   956  4711   974     1 15307     9     1     1   596  2454\n",
            "     1  4711  1685  8708     1     1   143  6474     1   488     1   596\n",
            "  2454     1  8708  2503     1     1     1     1     9     1     1  1293\n",
            "     1  7599     1     1  9045   333     1     9     1     1 15823     1\n",
            " 19760     9     1     1     1  2503   333     1     1     1  2503     1\n",
            "     1     1   333     1     1  3874   481     1     1  2503   333     1\n",
            "     1     1     1 14574     1 18594  4711     1  1685 15823     1   488\n",
            "     1  2503  2454     1   481     1     1     1], shape=(200,), dtype=int64)\n",
            "tf.Tensor(10, shape=(), dtype=int64)\n"
          ]
        }
      ],
      "source": [
        "for x, y in train_ds:\n",
        "  print(x[0])\n",
        "  print(y[0])\n",
        "  break"
      ]
    },
    {
      "cell_type": "code",
      "source": [],
      "metadata": {
        "id": "OZ9a1SOC7kFE"
      },
      "id": "OZ9a1SOC7kFE",
      "execution_count": null,
      "outputs": []
    }
  ],
  "metadata": {
    "kernelspec": {
      "display_name": "Python 3 (ipykernel)",
      "language": "python",
      "name": "python3"
    },
    "language_info": {
      "codemirror_mode": {
        "name": "ipython",
        "version": 3
      },
      "file_extension": ".py",
      "mimetype": "text/x-python",
      "name": "python",
      "nbconvert_exporter": "python",
      "pygments_lexer": "ipython3",
      "version": "3.9.13"
    },
    "colab": {
      "provenance": []
    },
    "gpuClass": "standard"
  },
  "nbformat": 4,
  "nbformat_minor": 5
}